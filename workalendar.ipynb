{
 "cells": [
  {
   "cell_type": "code",
   "execution_count": 1,
   "metadata": {
    "collapsed": false
   },
   "outputs": [],
   "source": [
    "import datetime\n",
    "import six\n",
    "from workalendar.asia import Japan"
   ]
  },
  {
   "cell_type": "code",
   "execution_count": 2,
   "metadata": {
    "collapsed": false
   },
   "outputs": [
    {
     "name": "stdout",
     "output_type": "stream",
     "text": [
      "5\n"
     ]
    }
   ],
   "source": [
    "# count business day\n",
    "\n",
    "def get_total_business_day(cal, start_date, end_date):\n",
    "    current_date = start_date\n",
    "    business_day_count = 0\n",
    "\n",
    "    while current_date < end_date:\n",
    "        if cal.is_working_day(current_date):\n",
    "            business_day_count += 1\n",
    "\n",
    "        current_date += datetime.timedelta(days=1)\n",
    "\n",
    "    return business_day_count\n",
    "\n",
    "six.print_(get_total_business_day(\n",
    "    Japan(), datetime.date(2016, 3, 6), datetime.date(2016, 3, 13)))"
   ]
  },
  {
   "cell_type": "code",
   "execution_count": null,
   "metadata": {
    "collapsed": true
   },
   "outputs": [],
   "source": []
  }
 ],
 "metadata": {
  "kernelspec": {
   "display_name": "Python 2",
   "language": "python",
   "name": "python2"
  },
  "language_info": {
   "codemirror_mode": {
    "name": "ipython",
    "version": 2
   },
   "file_extension": ".py",
   "mimetype": "text/x-python",
   "name": "python",
   "nbconvert_exporter": "python",
   "pygments_lexer": "ipython2",
   "version": "2.7.10"
  }
 },
 "nbformat": 4,
 "nbformat_minor": 0
}
