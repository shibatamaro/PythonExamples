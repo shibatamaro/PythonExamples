{
 "cells": [
  {
   "cell_type": "code",
   "execution_count": 1,
   "metadata": {
    "collapsed": true
   },
   "outputs": [],
   "source": [
    "import re\n",
    "import json\n",
    "import six\n",
    "from voluptuous import Schema, Required, Any, Range, Invalid, ALLOW_EXTRA, MultipleInvalid\n",
    "\n",
    "def validate_io_size(v):\n",
    "    if re.search(\"^[0-9]+[bkm]\", v) is None:\n",
    "        raise Invalid(\"not a valid value (%s)\" % str(v))\n",
    "\n",
    "schema = Schema({\n",
    "    \"comment\"                   : six.text_type,\n",
    "    Required(\"operation\")       : Any(\"read\", \"write\"),\n",
    "    \"thread\"                    : Range(min=1),\n",
    "    Required(\"io_size\")         : validate_io_size,\n",
    "    Required(\"access_percentage\")   : Range(min=1, max=100),\n",
    "}, extra=ALLOW_EXTRA)"
   ]
  },
  {
   "cell_type": "code",
   "execution_count": 2,
   "metadata": {
    "collapsed": false
   },
   "outputs": [
    {
     "data": {
      "text/plain": [
       "{'access_percentage': 100,\n",
       " 'comment': u'comment',\n",
       " 'io_size': None,\n",
       " 'operation': 'write',\n",
       " 'thread': 8}"
      ]
     },
     "execution_count": 2,
     "metadata": {},
     "output_type": "execute_result"
    }
   ],
   "source": [
    "# valid data\n",
    "schema({\n",
    "    \"comment\"           : u\"comment\",\n",
    "    \"operation\"         : \"write\",\n",
    "    \"thread\"            : 8,\n",
    "    \"io_size\"           : \"8k\",\n",
    "    \"access_percentage\" : 100\n",
    "})"
   ]
  },
  {
   "cell_type": "code",
   "execution_count": 3,
   "metadata": {
    "collapsed": false
   },
   "outputs": [
    {
     "data": {
      "text/plain": [
       "{'access_percentage': 100, 'io_size': None, 'operation': 'write'}"
      ]
     },
     "execution_count": 3,
     "metadata": {},
     "output_type": "execute_result"
    }
   ],
   "source": [
    "# valid data: omit some of the parameters\n",
    "schema({\n",
    "    \"operation\"         : \"write\",\n",
    "    \"io_size\"           : \"8k\",\n",
    "    \"access_percentage\" : 100\n",
    "})"
   ]
  },
  {
   "cell_type": "code",
   "execution_count": 4,
   "metadata": {
    "collapsed": false
   },
   "outputs": [
    {
     "name": "stdout",
     "output_type": "stream",
     "text": [
      "not a valid value for dictionary value @ data['operation']\n"
     ]
    }
   ],
   "source": [
    "# invalid data: invalid \"operation\" value\n",
    "try:\n",
    "    schema({\n",
    "        \"comment\"           : u\"comment\",\n",
    "        \"operation\"         : \"<invalid value>\",\n",
    "        \"thread\"            : 8,\n",
    "        \"io_size\"           : \"8k\",\n",
    "        \"access_percentage\" : 100\n",
    "    })\n",
    "except MultipleInvalid as e:\n",
    "    six.print_(e)"
   ]
  },
  {
   "cell_type": "code",
   "execution_count": 5,
   "metadata": {
    "collapsed": false
   },
   "outputs": [
    {
     "name": "stdout",
     "output_type": "stream",
     "text": [
      "not a valid value (a8k) for dictionary value @ data['io_size']\n"
     ]
    }
   ],
   "source": [
    "# invalid data: user defined invalidation\n",
    "try:\n",
    "    schema({\n",
    "    \"comment\"           : u\"comment\",\n",
    "    \"operation\"         : \"write\",\n",
    "    \"thread\"            : 8,\n",
    "    \"io_size\"           : \"a8k\",\n",
    "    \"access_percentage\" : 100\n",
    "    })\n",
    "except MultipleInvalid as e:\n",
    "    six.print_(e)"
   ]
  },
  {
   "cell_type": "code",
   "execution_count": null,
   "metadata": {
    "collapsed": true
   },
   "outputs": [],
   "source": []
  }
 ],
 "metadata": {
  "kernelspec": {
   "display_name": "Python 2",
   "language": "python",
   "name": "python2"
  },
  "language_info": {
   "codemirror_mode": {
    "name": "ipython",
    "version": 2
   },
   "file_extension": ".py",
   "mimetype": "text/x-python",
   "name": "python",
   "nbconvert_exporter": "python",
   "pygments_lexer": "ipython2",
   "version": "2.7.10"
  }
 },
 "nbformat": 4,
 "nbformat_minor": 0
}
