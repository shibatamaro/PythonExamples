{
 "cells": [
  {
   "cell_type": "code",
   "execution_count": 9,
   "metadata": {
    "collapsed": false
   },
   "outputs": [],
   "source": [
    "import re\n",
    "import json\n",
    "import six\n",
    "from voluptuous import Schema, Required, All, Any, Range, Invalid, Length, ALLOW_EXTRA, MultipleInvalid\n",
    "\n",
    "def validate_io_size(v):\n",
    "    if re.search(\"^[0-9]+[bkm]\", v) is None:\n",
    "        raise Invalid(\"not a valid value (%s)\" % str(v))\n",
    "\n",
    "schema = Schema({\n",
    "    \"comment\"                   : six.text_type,\n",
    "    Required(\"operation\")       : Any(\"read\", \"write\"),\n",
    "    \"thread\"                    : Range(min=1),\n",
    "    Required(\"io_size\")         : validate_io_size,\n",
    "    Required(\"access_percentage\")   : Range(min=1, max=100),\n",
    "}, extra=ALLOW_EXTRA)"
   ]
  },
  {
   "cell_type": "code",
   "execution_count": 2,
   "metadata": {
    "collapsed": false
   },
   "outputs": [
    {
     "data": {
      "text/plain": [
       "{'access_percentage': 100,\n",
       " 'comment': 'comment',\n",
       " 'io_size': None,\n",
       " 'operation': 'write',\n",
       " 'thread': 8}"
      ]
     },
     "execution_count": 2,
     "metadata": {},
     "output_type": "execute_result"
    }
   ],
   "source": [
    "# valid data\n",
    "schema({\n",
    "    \"comment\"           : u\"comment\",\n",
    "    \"operation\"         : \"write\",\n",
    "    \"thread\"            : 8,\n",
    "    \"io_size\"           : \"8k\",\n",
    "    \"access_percentage\" : 100\n",
    "})"
   ]
  },
  {
   "cell_type": "code",
   "execution_count": 3,
   "metadata": {
    "collapsed": false
   },
   "outputs": [
    {
     "data": {
      "text/plain": [
       "{'access_percentage': 100, 'io_size': None, 'operation': 'write'}"
      ]
     },
     "execution_count": 3,
     "metadata": {},
     "output_type": "execute_result"
    }
   ],
   "source": [
    "# valid data: omit some of the parameters\n",
    "schema({\n",
    "    \"operation\"         : \"write\",\n",
    "    \"io_size\"           : \"8k\",\n",
    "    \"access_percentage\" : 100\n",
    "})"
   ]
  },
  {
   "cell_type": "code",
   "execution_count": 4,
   "metadata": {
    "collapsed": false
   },
   "outputs": [
    {
     "name": "stdout",
     "output_type": "stream",
     "text": [
      "not a valid value for dictionary value @ data['operation']\n"
     ]
    }
   ],
   "source": [
    "# invalid data: invalid \"operation\" value\n",
    "try:\n",
    "    schema({\n",
    "        \"comment\"           : u\"comment\",\n",
    "        \"operation\"         : \"<invalid value>\",\n",
    "        \"thread\"            : 8,\n",
    "        \"io_size\"           : \"8k\",\n",
    "        \"access_percentage\" : 100\n",
    "    })\n",
    "except MultipleInvalid as e:\n",
    "    six.print_(e)"
   ]
  },
  {
   "cell_type": "code",
   "execution_count": 5,
   "metadata": {
    "collapsed": false
   },
   "outputs": [
    {
     "name": "stdout",
     "output_type": "stream",
     "text": [
      "not a valid value (a8k) for dictionary value @ data['io_size']\n"
     ]
    }
   ],
   "source": [
    "# invalid data: user defined invalidation\n",
    "try:\n",
    "    schema({\n",
    "    \"comment\"           : u\"comment\",\n",
    "    \"operation\"         : \"write\",\n",
    "    \"thread\"            : 8,\n",
    "    \"io_size\"           : \"a8k\",\n",
    "    \"access_percentage\" : 100\n",
    "    })\n",
    "except MultipleInvalid as e:\n",
    "    six.print_(e)"
   ]
  },
  {
   "cell_type": "code",
   "execution_count": 21,
   "metadata": {
    "collapsed": false
   },
   "outputs": [
    {
     "name": "stdout",
     "output_type": "stream",
     "text": [
      "length of value must be at least 1\n",
      "not a valid value for dictionary value @ data[0]['attr_a']\n"
     ]
    }
   ],
   "source": [
    "schema = Schema(\n",
    "    All([\n",
    "        {six.text_type : Any(None, six.integer_types, float, six.text_type)},\n",
    "    ], Length(min=1))\n",
    ")\n",
    "\n",
    "schema([\n",
    "    {u'attr_b': '4', u'attr_c': u'a', u'attr_a': '1'},\n",
    "    {u'attr_b': '2.1', u'attr_c': u'bb', u'attr_a': '2'},\n",
    "    {u'attr_b': '120.9', u'attr_c': u'ccc', u'attr_a': '3'},\n",
    "    {u'attr_b': None, u'attr_c': None}\n",
    "])\n",
    "\n",
    "try:\n",
    "    schema([])\n",
    "except MultipleInvalid as e:\n",
    "    six.print_(e)\n",
    "\n",
    "schema([{}])\n",
    "\n",
    "try:\n",
    "    schema([\n",
    "        {u'attr_b': '4', u'attr_c': u'a', u'attr_a': {'nest': 1}},\n",
    "    ])\n",
    "except MultipleInvalid as e:\n",
    "    six.print_(e)\n"
   ]
  },
  {
   "cell_type": "code",
   "execution_count": 24,
   "metadata": {
    "collapsed": false
   },
   "outputs": [
    {
     "data": {
      "text/plain": [
       "['attr_a', 'attr_b', 'attr_c']"
      ]
     },
     "execution_count": 24,
     "metadata": {},
     "output_type": "execute_result"
    }
   ],
   "source": [
    "sorted({u'attr_b': '4', u'attr_c': u'a', u'attr_a': '1'})"
   ]
  },
  {
   "cell_type": "code",
   "execution_count": null,
   "metadata": {
    "collapsed": true
   },
   "outputs": [],
   "source": []
  }
 ],
 "metadata": {
  "celltoolbar": "Raw Cell Format",
  "kernelspec": {
   "display_name": "Python 3",
   "language": "python",
   "name": "python3"
  },
  "language_info": {
   "codemirror_mode": {
    "name": "ipython",
    "version": 3
   },
   "file_extension": ".py",
   "mimetype": "text/x-python",
   "name": "python",
   "nbconvert_exporter": "python",
   "pygments_lexer": "ipython3",
   "version": "3.5.1"
  }
 },
 "nbformat": 4,
 "nbformat_minor": 0
}
