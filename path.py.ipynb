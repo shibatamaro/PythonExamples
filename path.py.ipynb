{
 "cells": [
  {
   "cell_type": "code",
   "execution_count": 1,
   "metadata": {
    "collapsed": true
   },
   "outputs": [],
   "source": [
    "# https://github.com/jaraco/path.py\n",
    "from path import Path\n",
    "import six"
   ]
  },
  {
   "cell_type": "code",
   "execution_count": 2,
   "metadata": {
    "collapsed": false
   },
   "outputs": [
    {
     "name": "stdout",
     "output_type": "stream",
     "text": [
      "Invalid initial value for path: None\n"
     ]
    }
   ],
   "source": [
    "# constructor\n",
    "try:\n",
    "    Path(None)\n",
    "except TypeError as e:\n",
    "    six.print_(e)"
   ]
  },
  {
   "cell_type": "code",
   "execution_count": 3,
   "metadata": {
    "collapsed": false
   },
   "outputs": [
    {
     "name": "stdout",
     "output_type": "stream",
     "text": [
      "test/dir\n",
      "test/dir\n"
     ]
    }
   ],
   "source": [
    "# makedirs_p / removedirs_p\n",
    "path = Path(\"test/dir\")\n",
    "\n",
    "six.print_(path.makedirs_p())\n",
    "six.print_(path.removedirs_p())"
   ]
  },
  {
   "cell_type": "code",
   "execution_count": 4,
   "metadata": {
    "collapsed": false
   },
   "outputs": [
    {
     "name": "stdout",
     "output_type": "stream",
     "text": [
      "before = '/not/existing/dir/hoge.tar.gz'\n",
      " after = '/not/existing/dir'\n",
      "\n",
      "before = '/__path__'\n",
      " after = '/'\n",
      "\n",
      "before = '__path__'\n",
      " after = ''\n",
      "\n",
      "before = '/'\n",
      " after = '/'\n",
      "\n",
      "before = ''\n",
      " after = ''\n",
      "\n",
      "before = '1'\n",
      " after = ''\n",
      "\n"
     ]
    }
   ],
   "source": [
    "# dirname\n",
    "for value in [\"/not/existing/dir/hoge.tar.gz\", \"/__path__\", \"__path__\", \"/\", \"\", 1]:\n",
    "    six.print_(\"before = '%s'\" % (str(value)))\n",
    "    six.print_(\" after = '%s'\" % Path(value).dirname())\n",
    "    six.print_()\n",
    "    "
   ]
  },
  {
   "cell_type": "code",
   "execution_count": 5,
   "metadata": {
    "collapsed": false
   },
   "outputs": [
    {
     "name": "stdout",
     "output_type": "stream",
     "text": [
      "before = '/test/dir/hoge.tar.gz'\n",
      " after = 'hoge.tar'\n",
      "\n",
      "before = '/test/dir/hoge.txt'\n",
      " after = 'hoge'\n",
      "\n",
      "before = '/test/dir/__path__/'\n",
      " after = ''\n",
      "\n",
      "before = '__path__'\n",
      " after = '__path__'\n",
      "\n",
      "before = ''\n",
      " after = ''\n",
      "\n",
      "before = '1'\n",
      " after = '1'\n",
      "\n",
      "before = '1.1'\n",
      " after = '1'\n",
      "\n"
     ]
    }
   ],
   "source": [
    "# namebase\n",
    "value_list = [\n",
    "    \"/test/dir/hoge.tar.gz\",\n",
    "    \"/test/dir/hoge.txt\",\n",
    "    \"/test/dir/__path__/\",\n",
    "    \"__path__\",\n",
    "    \"\",\n",
    "    1,\n",
    "    1.1\n",
    "]\n",
    "for value in value_list:\n",
    "    six.print_(\"before = '%s'\" % (str(value)))\n",
    "    six.print_(\" after = '%s'\" % Path(value).namebase)\n",
    "    six.print_()"
   ]
  },
  {
   "cell_type": "code",
   "execution_count": 6,
   "metadata": {
    "collapsed": false
   },
   "outputs": [
    {
     "name": "stdout",
     "output_type": "stream",
     "text": [
      "test_file\n",
      "test_file\n"
     ]
    }
   ],
   "source": [
    "# touch / remove\n",
    "path = Path(\"test_file\")\n",
    "\n",
    "six.print_(path.touch())\n",
    "six.print_(path.remove())"
   ]
  },
  {
   "cell_type": "code",
   "execution_count": 7,
   "metadata": {
    "collapsed": false
   },
   "outputs": [
    {
     "name": "stdout",
     "output_type": "stream",
     "text": [
      "[Errno 2] No such file or directory\n"
     ]
    }
   ],
   "source": [
    "# touch (error case)\n",
    "try:\n",
    "    Path(\"/not/existing/dir\").touch()\n",
    "except OSError as e:\n",
    "    six.print_(e)"
   ]
  },
  {
   "cell_type": "code",
   "execution_count": 8,
   "metadata": {
    "collapsed": false
   },
   "outputs": [
    {
     "name": "stdout",
     "output_type": "stream",
     "text": [
      "Invalid initial value for path: None\n"
     ]
    }
   ],
   "source": [
    "# touch (error case)\n",
    "try:\n",
    "    Path(None).touch()\n",
    "except TypeError as e:\n",
    "    six.print_(e)"
   ]
  },
  {
   "cell_type": "code",
   "execution_count": 9,
   "metadata": {
    "collapsed": false
   },
   "outputs": [
    {
     "name": "stdout",
     "output_type": "stream",
     "text": [
      "test_file\n",
      "1459074502.39\n",
      "test_file\n",
      "1459074502.89\n",
      "test_file\n"
     ]
    }
   ],
   "source": [
    "# atime\n",
    "import time\n",
    "\n",
    "path = Path(\"test_file\")\n",
    "\n",
    "six.print_(path.touch())\n",
    "six.print_(path.atime)\n",
    "\n",
    "time.sleep(0.5)\n",
    "\n",
    "six.print_(path.touch())\n",
    "six.print_(path.atime)\n",
    "\n",
    "six.print_(path.remove())"
   ]
  },
  {
   "cell_type": "code",
   "execution_count": null,
   "metadata": {
    "collapsed": true
   },
   "outputs": [],
   "source": []
  }
 ],
 "metadata": {
  "kernelspec": {
   "display_name": "Python 2",
   "language": "python",
   "name": "python2"
  },
  "language_info": {
   "codemirror_mode": {
    "name": "ipython",
    "version": 2
   },
   "file_extension": ".py",
   "mimetype": "text/x-python",
   "name": "python",
   "nbconvert_exporter": "python",
   "pygments_lexer": "ipython2",
   "version": "2.7.10"
  }
 },
 "nbformat": 4,
 "nbformat_minor": 0
}
